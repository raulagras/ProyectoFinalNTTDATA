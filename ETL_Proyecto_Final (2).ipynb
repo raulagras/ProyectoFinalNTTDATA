{
  "nbformat": 4,
  "nbformat_minor": 0,
  "metadata": {
    "colab": {
      "provenance": []
    },
    "kernelspec": {
      "name": "python3",
      "display_name": "Python 3"
    },
    "language_info": {
      "name": "python"
    }
  },
  "cells": [
    {
      "cell_type": "markdown",
      "source": [
        "# Librerias"
      ],
      "metadata": {
        "id": "E_e8yTTbkwXI"
      }
    },
    {
      "cell_type": "markdown",
      "source": [
        "## Importaciones de librerias"
      ],
      "metadata": {
        "id": "8Fb3kTX1k1AI"
      }
    },
    {
      "cell_type": "code",
      "source": [
        "#PySpark & Transformación\n",
        "from pyspark.sql import SparkSession\n",
        "from pyspark.sql.types import FloatType, IntegerType, DecimalType, DoubleType\n",
        "from pyspark.ml.feature import Imputer, StringIndexer\n",
        "from pyspark.sql.functions import col, when, avg, stddev, min, max, round, corr\n",
        "import numpy as np\n",
        "from pyspark.sql.functions import skewness\n",
        "from pyspark.sql.functions import col, when, count\n",
        "\n",
        "#KNN Imputer\n",
        "import pandas as pd\n",
        "from sklearn.preprocessing import OneHotEncoder\n",
        "from sklearn.impute import KNNImputer"
      ],
      "metadata": {
        "id": "jJ4uZWieVzEX"
      },
      "execution_count": null,
      "outputs": []
    },
    {
      "cell_type": "markdown",
      "source": [
        "# Inicializacion"
      ],
      "metadata": {
        "id": "tUt1PZdJk1ih"
      }
    },
    {
      "cell_type": "markdown",
      "source": [
        "## Inicializacion de la sesion de Spark"
      ],
      "metadata": {
        "id": "0YEN53DBk47H"
      }
    },
    {
      "cell_type": "code",
      "source": [
        "# 1. Crear sesión de Spark\n",
        "spark = SparkSession.builder \\\n",
        "    .appName(\"ETL Social Media vs Productivity\") \\\n",
        "    .getOrCreate()"
      ],
      "metadata": {
        "id": "rfcTs9VimM8J"
      },
      "execution_count": null,
      "outputs": []
    },
    {
      "cell_type": "markdown",
      "source": [
        "## Dar permisos de drive"
      ],
      "metadata": {
        "id": "CRH-ZDSZlokH"
      }
    },
    {
      "cell_type": "markdown",
      "source": [
        "# Ingesta de dataset"
      ],
      "metadata": {
        "id": "ipcOWBTGk6Yr"
      }
    },
    {
      "cell_type": "code",
      "source": [
        "dfProductivity = spark.read.csv(\"social_media_vs_productivity.csv\", header=True, inferSchema=True)"
      ],
      "metadata": {
        "id": "4BkymS6llcwm"
      },
      "execution_count": null,
      "outputs": []
    },
    {
      "cell_type": "markdown",
      "source": [
        "## Mirar el tamaño del dataset"
      ],
      "metadata": {
        "id": "Lw-dHVH0l_iN"
      }
    },
    {
      "cell_type": "code",
      "source": [
        "# Obtener el número de filas\n",
        "numero_filas = dfProductivity.count()\n",
        "\n",
        "# Obtener el número de columnas\n",
        "num_columnas = len(dfProductivity.columns)\n",
        "\n",
        "# Imprimir el número de filas y columnas\n",
        "print(f\"Numero de filas: {numero_filas}\")\n",
        "print(f\"Numero de columnas: {num_columnas}\")"
      ],
      "metadata": {
        "colab": {
          "base_uri": "https://localhost:8080/"
        },
        "id": "dV99UJEOkYKR",
        "outputId": "f660fba3-12ef-4fd0-ddcb-ca684b3ab160"
      },
      "execution_count": null,
      "outputs": [
        {
          "output_type": "stream",
          "name": "stdout",
          "text": [
            "Numero de filas: 30000\n",
            "Numero de columnas: 19\n"
          ]
        }
      ]
    },
    {
      "cell_type": "markdown",
      "source": [
        "## Mostrar el esquema del dataframe"
      ],
      "metadata": {
        "id": "mY3xB93vmBfj"
      }
    },
    {
      "cell_type": "code",
      "source": [
        "dfProductivity.printSchema()"
      ],
      "metadata": {
        "colab": {
          "base_uri": "https://localhost:8080/"
        },
        "id": "w5j5q0ckIt-h",
        "outputId": "b0b7c255-41ca-4cd4-8a16-50e615d4ccaf"
      },
      "execution_count": null,
      "outputs": [
        {
          "output_type": "stream",
          "name": "stdout",
          "text": [
            "root\n",
            " |-- age: integer (nullable = true)\n",
            " |-- gender: string (nullable = true)\n",
            " |-- job_type: string (nullable = true)\n",
            " |-- daily_social_media_time: double (nullable = true)\n",
            " |-- social_platform_preference: string (nullable = true)\n",
            " |-- number_of_notifications: integer (nullable = true)\n",
            " |-- work_hours_per_day: double (nullable = true)\n",
            " |-- perceived_productivity_score: double (nullable = true)\n",
            " |-- actual_productivity_score: double (nullable = true)\n",
            " |-- stress_level: double (nullable = true)\n",
            " |-- sleep_hours: double (nullable = true)\n",
            " |-- screen_time_before_sleep: double (nullable = true)\n",
            " |-- breaks_during_work: integer (nullable = true)\n",
            " |-- uses_focus_apps: boolean (nullable = true)\n",
            " |-- has_digital_wellbeing_enabled: boolean (nullable = true)\n",
            " |-- coffee_consumption_per_day: integer (nullable = true)\n",
            " |-- days_feeling_burnout_per_month: integer (nullable = true)\n",
            " |-- weekly_offline_hours: double (nullable = true)\n",
            " |-- job_satisfaction_score: double (nullable = true)\n",
            "\n"
          ]
        }
      ]
    },
    {
      "cell_type": "markdown",
      "source": [
        "## Mostrar las primeras 5 filas del dataframe"
      ],
      "metadata": {
        "id": "ykGrikB2mGka"
      }
    },
    {
      "cell_type": "code",
      "source": [
        "dfProductivity.show(5)"
      ],
      "metadata": {
        "colab": {
          "base_uri": "https://localhost:8080/"
        },
        "id": "aUp8mO1smPDS",
        "outputId": "a075d667-8b52-4376-8bbf-bc08489f8865"
      },
      "execution_count": null,
      "outputs": [
        {
          "output_type": "stream",
          "name": "stdout",
          "text": [
            "+---+------+----------+-----------------------+--------------------------+-----------------------+------------------+----------------------------+-------------------------+------------+-----------------+------------------------+------------------+---------------+-----------------------------+--------------------------+------------------------------+--------------------+----------------------+\n",
            "|age|gender|  job_type|daily_social_media_time|social_platform_preference|number_of_notifications|work_hours_per_day|perceived_productivity_score|actual_productivity_score|stress_level|      sleep_hours|screen_time_before_sleep|breaks_during_work|uses_focus_apps|has_digital_wellbeing_enabled|coffee_consumption_per_day|days_feeling_burnout_per_month|weekly_offline_hours|job_satisfaction_score|\n",
            "+---+------+----------+-----------------------+--------------------------+-----------------------+------------------+----------------------------+-------------------------+------------+-----------------+------------------------+------------------+---------------+-----------------------------+--------------------------+------------------------------+--------------------+----------------------+\n",
            "| 56|  Male|Unemployed|      4.180939775840407|                  Facebook|                     61|  6.75355840556201|            8.04046395460586|        7.291555269465855|         4.0|5.116545502198779|      0.4191024304440629|                 8|          false|                        false|                         4|                            11|  21.927072437273132|     6.336688286435082|\n",
            "| 46|  Male|    Health|     3.2496029537166797|                   Twitter|                     59|  9.16929611963351|           5.063368162322373|        5.165092998005627|         7.0|5.103896756553941|      0.6715191847959994|                 7|           true|                         true|                         2|                            25|                 0.0|    3.4124272560804627|\n",
            "| 32|  Male|   Finance|                   NULL|                   Twitter|                     57| 7.910952034409042|           3.861762461136279|       3.4740531656920655|         4.0|8.583221815294962|      0.6243776158798261|                 0|           true|                        false|                         3|                            17|  10.322044274435633|     2.474943628456001|\n",
            "| 60|Female|Unemployed|                   NULL|                  Facebook|                     59| 6.355027219236192|          2.9163309492583167|       1.7748691740272262|         6.0| 6.05298417988897|      1.2045404034280853|                 1|          false|                        false|                         0|                             4|  23.876615633882547|    1.7336704416826048|\n",
            "| 25|  Male|        IT|                   NULL|                  Telegram|                     66| 6.214096290148244|           8.868752637090383|                     NULL|         7.0|5.405706477416319|      1.8762536932126062|                 1|          false|                         true|                         1|                            30|  10.653518724209471|     9.693059763195668|\n",
            "+---+------+----------+-----------------------+--------------------------+-----------------------+------------------+----------------------------+-------------------------+------------+-----------------+------------------------+------------------+---------------+-----------------------------+--------------------------+------------------------------+--------------------+----------------------+\n",
            "only showing top 5 rows\n",
            "\n"
          ]
        }
      ]
    },
    {
      "cell_type": "markdown",
      "source": [
        "# Conversion de tipos"
      ],
      "metadata": {
        "id": "NHtcTBNbl5X-"
      }
    },
    {
      "cell_type": "markdown",
      "source": [
        "## Convertir columnas numéricas a tipo adecuado\n"
      ],
      "metadata": {
        "id": "hqywkpu8l9ej"
      }
    },
    {
      "cell_type": "code",
      "source": [
        "numeric_column_to_float = ['daily_social_media_time', 'work_hours_per_day', 'perceived_productivity_score',\n",
        "                      'actual_productivity_score', 'stress_level', 'sleep_hours','screen_time_before_sleep',\n",
        "                            'weekly_offline_hours', 'job_satisfaction_score']\n",
        "\n",
        "numeric_columns_to_int8 = ['age', 'number_of_notifications', 'breaks_during_work', 'coffee_consumption_per_day',\n",
        "                           'days_feeling_burnout_per_month']\n",
        "\n",
        "for col_name in numeric_column_to_float:\n",
        "    dfProductivity = dfProductivity.withColumn(col_name, col(col_name).cast(DecimalType(4, 2)))\n",
        "\n",
        "for col_name in numeric_columns_to_int8:\n",
        "    dfProductivity = dfProductivity.withColumn(col_name, col(col_name).cast(IntegerType()))\n",
        "\n",
        "# Convertir columnas booleanas\n",
        "bool_columns = [\"uses_focus_apps\", \"has_digital_wellbeing_enabled\"]\n",
        "for col_name in bool_columns:\n",
        "    dfProductivity = dfProductivity.withColumn(\n",
        "        col_name,\n",
        "        when(col(col_name) == \"True\", 1)\n",
        "        .when(col(col_name) == \"False\", 0)\n",
        "        .otherwise(None)\n",
        ")"
      ],
      "metadata": {
        "id": "dnhnC2EamD4m"
      },
      "execution_count": null,
      "outputs": []
    },
    {
      "cell_type": "markdown",
      "source": [
        "#Tratado de nulos"
      ],
      "metadata": {
        "id": "cvYWP6uni9F2"
      }
    },
    {
      "cell_type": "markdown",
      "source": [
        "## Mostrar numero de nulos"
      ],
      "metadata": {
        "id": "upiEdkXKlUPz"
      }
    },
    {
      "cell_type": "code",
      "source": [
        "null_counts = dfProductivity.select([count(when(col(c).isNull(), c)).alias(c) for c in dfProductivity.columns])\n",
        "print(\"Valores nulos por columna:\")\n",
        "null_counts.show(truncate=False)"
      ],
      "metadata": {
        "id": "t7qorMSAlYwh",
        "outputId": "c145b74d-99f6-472f-a384-6d4c46bd483d",
        "colab": {
          "base_uri": "https://localhost:8080/"
        }
      },
      "execution_count": null,
      "outputs": [
        {
          "output_type": "stream",
          "name": "stdout",
          "text": [
            "Valores nulos por columna:\n",
            "+---+------+--------+-----------------------+--------------------------+-----------------------+------------------+----------------------------+-------------------------+------------+-----------+------------------------+------------------+---------------+-----------------------------+--------------------------+------------------------------+--------------------+----------------------+\n",
            "|age|gender|job_type|daily_social_media_time|social_platform_preference|number_of_notifications|work_hours_per_day|perceived_productivity_score|actual_productivity_score|stress_level|sleep_hours|screen_time_before_sleep|breaks_during_work|uses_focus_apps|has_digital_wellbeing_enabled|coffee_consumption_per_day|days_feeling_burnout_per_month|weekly_offline_hours|job_satisfaction_score|\n",
            "+---+------+--------+-----------------------+--------------------------+-----------------------+------------------+----------------------------+-------------------------+------------+-----------+------------------------+------------------+---------------+-----------------------------+--------------------------+------------------------------+--------------------+----------------------+\n",
            "|0  |0     |0       |2765                   |0                         |0                      |0                 |1614                        |2365                     |1904        |2598       |2211                    |0                 |0              |0                            |0                         |0                             |0                   |2730                  |\n",
            "+---+------+--------+-----------------------+--------------------------+-----------------------+------------------+----------------------------+-------------------------+------------+-----------+------------------------+------------------+---------------+-----------------------------+--------------------------+------------------------------+--------------------+----------------------+\n",
            "\n"
          ]
        }
      ]
    },
    {
      "cell_type": "markdown",
      "source": [
        "A pesar de que la principal herramienta de transformación de este proyecto sea PySpark, nos pareció una idea muy interesante poder comparar dos datasets distintos:\n",
        "\n",
        "\n",
        "*   Imputación por KNN (vecinos cercanos)\n",
        "*   Impuación estadística por media/mediana\n",
        "\n",
        "De esta forma, podremos comparar más adelante en el modelo predictivo cuál dá un mejor resultado.\n",
        "\n"
      ],
      "metadata": {
        "id": "R9ric1VT11T1"
      }
    },
    {
      "cell_type": "markdown",
      "source": [
        "##KNN Imputer"
      ],
      "metadata": {
        "id": "-iTUzOmA1xOF"
      }
    },
    {
      "cell_type": "code",
      "source": [
        "# 1. Copia del dataset (convertir a Pandas DataFrame)\n",
        "dataset_KNN = dfProductivity.toPandas()\n",
        "\n",
        "# 2. Codificar columnas categóricas\n",
        "cat_columns = ['gender', 'social_platform_preference', 'uses_focus_apps']\n",
        "# Ensure 'uses_focus_apps' is treated as categorical in pandas\n",
        "dataset_KNN['uses_focus_apps'] = dataset_KNN['uses_focus_apps'].astype(str)\n",
        "\n",
        "encoder = OneHotEncoder(sparse_output=False, handle_unknown='ignore')\n",
        "encoded_cats = pd.DataFrame(encoder.fit_transform(dataset_KNN[cat_columns]),\n",
        "                           columns=encoder.get_feature_names_out(cat_columns),\n",
        "                           index=dataset_KNN.index) # Keep original index for merging\n",
        "\n",
        "# 3. Combinar columnas numéricas y codificadas\n",
        "num_columns = ['daily_social_media_time', 'job_satisfaction_score', 'sleep_hours',\n",
        "               'actual_productivity_score', 'screen_time_before_sleep', 'stress_level', 'perceived_productivity_score']\n",
        "\n",
        "# Ensure numeric columns are of a suitable type for KNNImputer\n",
        "for col in num_columns:\n",
        "    dataset_KNN[col] = pd.to_numeric(dataset_KNN[col], errors='coerce')\n",
        "\n",
        "data_for_imputation = pd.concat([dataset_KNN[num_columns], encoded_cats], axis=1)\n",
        "\n",
        "# 4. Aplicar KNNImputer\n",
        "imputer = KNNImputer(n_neighbors=3, weights='uniform')\n",
        "imputed_data = imputer.fit_transform(data_for_imputation)\n",
        "\n",
        "# 5. Reconstruir dataset\n",
        "# Assign imputed data back to the relevant columns in the pandas DataFrame\n",
        "dataset_KNN[num_columns] = imputed_data[:, :len(num_columns)]\n",
        "\n",
        "# For categorical columns, fill remaining NaNs if any (after one-hot encoding, there shouldn't be in the encoded part, but the original categorical columns might have NaNs)\n",
        "# Use the mode from the *original* PySpark DataFrame to avoid issues with potential changes during the toPandas conversion\n",
        "for col in cat_columns:\n",
        "    # Find mode from the original PySpark DataFrame\n",
        "    mode_value = dfProductivity.groupBy(col).count().orderBy(\"count\", ascending=False).collect()[0][col]\n",
        "    dataset_KNN[col] = dataset_KNN[col].fillna(mode_value)\n",
        "\n",
        "\n",
        "# 6. Mostrar tabla de calidad\n",
        "tabla_calidad = pd.DataFrame({\n",
        "    'Cantidad Nulos': dataset_KNN.isnull().sum(),\n",
        "    'Porcentaje Nulos (%)': (dataset_KNN.isnull().sum() / len(dataset_KNN)) * 100\n",
        "})\n",
        "print(\"\\nTabla de calidad del dato:\")\n",
        "print(tabla_calidad)"
      ],
      "metadata": {
        "id": "tO1_AxJzjQhy",
        "colab": {
          "base_uri": "https://localhost:8080/"
        },
        "outputId": "ece50047-f797-4852-868d-c98c0b0dd9e2"
      },
      "execution_count": null,
      "outputs": [
        {
          "output_type": "stream",
          "name": "stdout",
          "text": [
            "\n",
            "Tabla de calidad del dato:\n",
            "                                Cantidad Nulos  Porcentaje Nulos (%)\n",
            "age                                          0                   0.0\n",
            "gender                                       0                   0.0\n",
            "job_type                                     0                   0.0\n",
            "daily_social_media_time                      0                   0.0\n",
            "social_platform_preference                   0                   0.0\n",
            "number_of_notifications                      0                   0.0\n",
            "work_hours_per_day                           0                   0.0\n",
            "perceived_productivity_score                 0                   0.0\n",
            "actual_productivity_score                    0                   0.0\n",
            "stress_level                                 0                   0.0\n",
            "sleep_hours                                  0                   0.0\n",
            "screen_time_before_sleep                     0                   0.0\n",
            "breaks_during_work                           0                   0.0\n",
            "uses_focus_apps                              0                   0.0\n",
            "has_digital_wellbeing_enabled                0                   0.0\n",
            "coffee_consumption_per_day                   0                   0.0\n",
            "days_feeling_burnout_per_month               0                   0.0\n",
            "weekly_offline_hours                         0                   0.0\n",
            "job_satisfaction_score                       0                   0.0\n"
          ]
        }
      ]
    },
    {
      "cell_type": "markdown",
      "source": [
        "## Mirar distribucion de datos de las columnas para imputar"
      ],
      "metadata": {
        "id": "i-euS67clfyL"
      }
    },
    {
      "cell_type": "code",
      "source": [
        "numeric_columns = [\n",
        "        \"age\", \"daily_social_media_time\", \"work_hours_per_day\", \"perceived_productivity_score\",\n",
        "        \"actual_productivity_score\", \"stress_level\", \"sleep_hours\", \"screen_time_before_sleep\",\n",
        "        \"breaks_during_work\", \"coffee_consumption_per_day\", \"days_feeling_burnout_per_month\",\n",
        "        \"weekly_offline_hours\", \"job_satisfaction_score\"\n",
        "    ]\n",
        "\n",
        "#EL skewness: indica si los datos están distribuidos simétricamente\n",
        "#(como una distribución normal) o si tienen un sesgo (skewed) hacia un lado\n",
        "print(\"Asimetría (skewness) de las columnas numéricas:\")\n",
        "for col_name in numeric_columns:\n",
        "    skew_value = dfProductivity.select(skewness(col_name).alias(\"skewness\")).collect()[0][\"skewness\"]\n",
        "    print(f\"{col_name}: {skew_value:.3f}\")"
      ],
      "metadata": {
        "id": "YNrvweJylgk3",
        "outputId": "2080fa22-92d1-4987-f94a-5a3a171ed131",
        "colab": {
          "base_uri": "https://localhost:8080/"
        }
      },
      "execution_count": null,
      "outputs": [
        {
          "output_type": "stream",
          "name": "stdout",
          "text": [
            "Asimetría (skewness) de las columnas numéricas:\n",
            "age: 0.015\n",
            "daily_social_media_time: 1.191\n",
            "work_hours_per_day: -0.038\n",
            "perceived_productivity_score: -0.011\n",
            "actual_productivity_score: -0.007\n",
            "stress_level: 0.001\n",
            "sleep_hours: 0.004\n",
            "screen_time_before_sleep: 0.304\n",
            "breaks_during_work: 0.007\n",
            "coffee_consumption_per_day: 0.675\n",
            "days_feeling_burnout_per_month: -0.008\n",
            "weekly_offline_hours: 0.423\n",
            "job_satisfaction_score: 0.009\n"
          ]
        }
      ]
    },
    {
      "cell_type": "markdown",
      "source": [
        "## Imputación media\n"
      ],
      "metadata": {
        "id": "o22_HtwrjDD7"
      }
    },
    {
      "cell_type": "markdown",
      "source": [
        "Trato de los nulos en columnas numericas"
      ],
      "metadata": {
        "id": "Tk9K0VNnoD5M"
      }
    },
    {
      "cell_type": "code",
      "source": [
        "#En este caso, el skewness ayuda a decidir si imputar valores faltantes con la media\n",
        "#(para distribuciones simétricas, skewness ≈ 0) o la mediana\n",
        "#(para distribuciones sesgadas, |skewness| > 0.3 o 1)\n",
        "\n",
        "\n",
        "# Columnas para imputar con mediana (skewness > 0.3)\n",
        "median_columns = [\n",
        "    \"daily_social_media_time\", \"screen_time_before_sleep\"\n",
        "]\n",
        "\n",
        "# Columnas para imputar con media (skewness ≤ 0.3)\n",
        "mean_columns = [\n",
        "    \"perceived_productivity_score\",\"actual_productivity_score\", \"stress_level\",\n",
        "    \"sleep_hours\",\"job_satisfaction_score\"\n",
        "]\n",
        "\n",
        "# Imputar con mediana\n",
        "for col_name in median_columns:\n",
        "    # El approxQuantile calcula cuantiles aproximados de una columna de forma distribuida\n",
        "    # El 0.5 indica que queremos el percentil 50, que corresponde a la mediana\n",
        "    # El 0.05 es el parámetro de error relativo (relative error), que controla la precisión de la aproximación.\n",
        "    median_value = dfProductivity.approxQuantile(col_name, [0.5], 0.05)[0]\n",
        "    if median_value is not None:\n",
        "        dfProductivity = dfProductivity.na.fill({col_name: median_value})\n",
        "        print(f\"Imputado {col_name} con mediana: {median_value:.2f}\")\n",
        "\n",
        "# Imputar con media\n",
        "for col_name in mean_columns:\n",
        "    # Aplica la función de agregación avg, que calcula la media, sobre la columna.\n",
        "    # Hace una coleccion de esos valores y mira el valor columna a columna\n",
        "    mean_value = dfProductivity.select(col_name).agg({col_name: \"avg\"}).collect()[0][f\"avg({col_name})\"]\n",
        "    if mean_value is not None:\n",
        "        dfProductivity = dfProductivity.na.fill({col_name: float(mean_value)})\n",
        "        print(f\"Imputado {col_name} con media: {mean_value:.2f}\")"
      ],
      "metadata": {
        "colab": {
          "base_uri": "https://localhost:8080/"
        },
        "id": "afh8MsvOoBRQ",
        "outputId": "eec22347-344e-47f2-c367-490edf8bf8ac"
      },
      "execution_count": null,
      "outputs": [
        {
          "output_type": "stream",
          "name": "stdout",
          "text": [
            "Imputado daily_social_media_time con mediana: 3.00\n",
            "Imputado screen_time_before_sleep con mediana: 1.00\n",
            "Imputado perceived_productivity_score con media: 5.51\n",
            "Imputado actual_productivity_score con media: 4.95\n",
            "Imputado stress_level con media: 5.51\n",
            "Imputado sleep_hours con media: 6.50\n",
            "Imputado job_satisfaction_score con media: 4.96\n"
          ]
        }
      ]
    },
    {
      "cell_type": "code",
      "source": [
        "from pyspark.sql.functions import col, when, count\n",
        "\n",
        "print(\"\\nValores nulos después de imputación:\")\n",
        "null_counts_after_imputation = dfProductivity.select([count(when(col(c).isNull(), c)).alias(c) for c in dfProductivity.columns])\n",
        "null_counts_after_imputation.show(truncate=False)"
      ],
      "metadata": {
        "id": "Q3gzarQiqbpb",
        "colab": {
          "base_uri": "https://localhost:8080/"
        },
        "outputId": "250c578f-941b-40ab-8906-8e7bedc6cf02"
      },
      "execution_count": null,
      "outputs": [
        {
          "output_type": "stream",
          "name": "stdout",
          "text": [
            "\n",
            "Valores nulos después de imputación:\n",
            "+---+------+--------+-----------------------+--------------------------+-----------------------+------------------+----------------------------+-------------------------+------------+-----------+------------------------+------------------+---------------+-----------------------------+--------------------------+------------------------------+--------------------+----------------------+\n",
            "|age|gender|job_type|daily_social_media_time|social_platform_preference|number_of_notifications|work_hours_per_day|perceived_productivity_score|actual_productivity_score|stress_level|sleep_hours|screen_time_before_sleep|breaks_during_work|uses_focus_apps|has_digital_wellbeing_enabled|coffee_consumption_per_day|days_feeling_burnout_per_month|weekly_offline_hours|job_satisfaction_score|\n",
            "+---+------+--------+-----------------------+--------------------------+-----------------------+------------------+----------------------------+-------------------------+------------+-----------+------------------------+------------------+---------------+-----------------------------+--------------------------+------------------------------+--------------------+----------------------+\n",
            "|0  |0     |0       |0                      |0                         |0                      |0                 |0                           |0                        |0           |0          |0                       |0                 |0              |0                            |0                         |0                             |0                   |0                     |\n",
            "+---+------+--------+-----------------------+--------------------------+-----------------------+------------------+----------------------------+-------------------------+------------+-----------+------------------------+------------------+---------------+-----------------------------+--------------------------+------------------------------+--------------------+----------------------+\n",
            "\n"
          ]
        }
      ]
    },
    {
      "cell_type": "markdown",
      "source": [
        "## Validez Categorica"
      ],
      "metadata": {
        "id": "Dc1glnVCj3o-"
      }
    },
    {
      "cell_type": "markdown",
      "source": [
        "Mirar los valores unicos en las columnas categoricas"
      ],
      "metadata": {
        "id": "5tTmOJqqxJ4r"
      }
    },
    {
      "cell_type": "code",
      "source": [
        "# Lista de columnas categóricas\n",
        "categorical_columns = [\"gender\", \"job_type\", \"social_platform_preference\"]\n",
        "\n",
        "# 1. Inspeccionar valores únicos\n",
        "print(\"### Inspección de valores únicos ###\")\n",
        "for col_name in categorical_columns:\n",
        "    print(f\"\\nValores únicos en {col_name}:\")\n",
        "    unique_values = dfProductivity.select(col_name).distinct().na.drop().collect()\n",
        "    unique_values = [row[col_name] for row in unique_values]\n",
        "    print(unique_values)"
      ],
      "metadata": {
        "id": "ste9jj7Owd1Y",
        "outputId": "275d5f0d-29b0-4954-bd5b-99b3aca6ecbe",
        "colab": {
          "base_uri": "https://localhost:8080/"
        }
      },
      "execution_count": null,
      "outputs": [
        {
          "output_type": "stream",
          "name": "stdout",
          "text": [
            "### Inspección de valores únicos ###\n",
            "\n",
            "Valores únicos en gender:\n",
            "['Female', 'Other', 'Male']\n",
            "\n",
            "Valores únicos en job_type:\n",
            "['Education', 'Student', 'Finance', 'Health', 'IT', 'Unemployed']\n",
            "\n",
            "Valores únicos en social_platform_preference:\n",
            "['TikTok', 'Instagram', 'Twitter', 'Telegram', 'Facebook']\n"
          ]
        }
      ]
    },
    {
      "cell_type": "code",
      "source": [
        "# Lista de valores esperados\n",
        "valid_gender = {'Female', 'Other', 'Male'}\n",
        "valid_job_type = {'Education', 'Student', 'Finance', 'Health', 'IT', 'Unemployed'}\n",
        "valid_social_platform_preference = {'TikTok', 'Instagram', 'Twitter', 'Telegram', 'Facebook'}\n",
        "\n",
        "# Re-import col to ensure it's the function\n",
        "from pyspark.sql.functions import col\n",
        "\n",
        "# Validar que todos los valores estén dentro de los valores esperados\n",
        "# Guarda en df_invalid si hay algún género que no este en valid_gender...\n",
        "dfProductivity_invalid = dfProductivity.filter(\n",
        "    (~col(\"gender\").isin(*valid_gender)) |\n",
        "    (~col(\"job_type\").isin(*valid_job_type)) |\n",
        "    (~col(\"social_platform_preference\").isin(*valid_social_platform_preference))\n",
        ")\n",
        "\n",
        "# Mostrar registros inválidos (si hay)\n",
        "if dfProductivity_invalid.count() > 0:\n",
        "    dfProductivity_invalid.show()\n",
        "    print(\"Se encontraron valores no válidos en las columnas.\")\n",
        "else:\n",
        "    print(\"Todos los valores son válidos.\")"
      ],
      "metadata": {
        "id": "klPqs6XyyONo",
        "outputId": "b7c22879-a6b8-466c-b194-d2d30d366b26",
        "colab": {
          "base_uri": "https://localhost:8080/"
        }
      },
      "execution_count": null,
      "outputs": [
        {
          "output_type": "stream",
          "name": "stdout",
          "text": [
            "Todos los valores son válidos.\n"
          ]
        }
      ]
    },
    {
      "cell_type": "markdown",
      "source": [
        "# Pruebas"
      ],
      "metadata": {
        "id": "OebQsmT0sESI"
      }
    },
    {
      "cell_type": "markdown",
      "source": [
        "## Validez Numérica"
      ],
      "metadata": {
        "id": "j8sXjgQ8s2VU"
      }
    },
    {
      "cell_type": "code",
      "source": [
        "errores = []\n",
        "\n",
        "# Validez Numérica (scores 0-10 y stress 1-10)\n",
        "print(\"\\nValidando rangos de métricas...\")\n",
        "\n",
        "score_columns = ['perceived_productivity_score', 'actual_productivity_score', 'job_satisfaction_score']\n",
        "for col_name in score_columns:\n",
        "    fuera_rango = dfProductivity.filter((col(col_name) < 0) | (col(col_name) > 10)).count()\n",
        "    if fuera_rango > 0:\n",
        "        errores.append(f\" FALLO - {col_name}: {fuera_rango} valores fuera del rango 0-10\")\n",
        "        print(f\"{col_name}: {fuera_rango} valores fuera del rango 0-10\")\n",
        "    else:\n",
        "        print(f\"{col_name}: todos los valores en rango 0-10\")\n",
        "\n",
        "# Estrés: 1-10\n",
        "fuera_rango = dfProductivity.filter((col('stress_level') < 1) | (col('stress_level') > 10)).count()\n",
        "if fuera_rango > 0:\n",
        "    errores.append(f\" FALLO - stress_level: {fuera_rango} valores fuera del rango 1-10\")\n",
        "    print(f\"stress_level: {fuera_rango} valores fuera del rango 1-10\")\n",
        "else:\n",
        "    print(f\"stress_level: todos los valores en rango 1-10\")"
      ],
      "metadata": {
        "colab": {
          "base_uri": "https://localhost:8080/"
        },
        "id": "Hx_rrJrZtPYS",
        "outputId": "2d692152-382a-4541-b221-c346827f3b29"
      },
      "execution_count": null,
      "outputs": [
        {
          "output_type": "stream",
          "name": "stdout",
          "text": [
            "\n",
            "Validando rangos de métricas...\n",
            "perceived_productivity_score: todos los valores en rango 0-10\n",
            "actual_productivity_score: todos los valores en rango 0-10\n",
            "job_satisfaction_score: todos los valores en rango 0-10\n",
            "stress_level: todos los valores en rango 1-10\n"
          ]
        }
      ]
    },
    {
      "cell_type": "markdown",
      "source": [
        "## Coherencia Temporal"
      ],
      "metadata": {
        "id": "SgndCJKEtWYW"
      }
    },
    {
      "cell_type": "code",
      "source": [
        "print(\"\\nValidando coherencia temporal...\")\n",
        "\n",
        "# Social media time ≤ 24h\n",
        "fuera_rango = dfProductivity.filter(col('daily_social_media_time') > 1440).count()\n",
        "if fuera_rango > 0:\n",
        "    errores.append(f\" FALLO - daily_social_media_time: {fuera_rango} valores > 24h\")\n",
        "    print(f\"❌ daily_social_media_time: {fuera_rango} valores > 24h\")\n",
        "else:\n",
        "    print(f\"✅ daily_social_media_time: todos los valores ≤ 24h\")\n",
        "\n",
        "# Horas de trabajo ≤ 24h\n",
        "fuera_rango = dfProductivity.filter(col('work_hours_per_day') > 24).count()\n",
        "if fuera_rango > 0:\n",
        "    errores.append(f\"FALLO - work_hours_per_day: {fuera_rango} valores > 24h\")\n",
        "    print(f\"❌ work_hours_per_day: {fuera_rango} valores > 24h\")\n",
        "else:\n",
        "    print(f\"✅ work_hours_per_day: todos los valores ≤ 24h\")\n",
        "\n",
        "# Horas de sueño ≤ 24h\n",
        "fuera_rango = dfProductivity.filter(col('sleep_hours') > 24).count()\n",
        "if fuera_rango > 0:\n",
        "    errores.append(f\"FALLO - sleep_hours: {fuera_rango} valores > 24h\")\n",
        "    print(f\"❌ sleep_hours: {fuera_rango} valores > 24h\")\n",
        "else:\n",
        "    print(f\"✅ sleep_hours: todos los valores ≤ 24h\")"
      ],
      "metadata": {
        "colab": {
          "base_uri": "https://localhost:8080/"
        },
        "id": "BOcmGOT8thbz",
        "outputId": "2ec0411b-aaa4-4df1-dfcd-3fa9ed48512d"
      },
      "execution_count": null,
      "outputs": [
        {
          "output_type": "stream",
          "name": "stdout",
          "text": [
            "\n",
            "Validando coherencia temporal...\n",
            "✅ daily_social_media_time: todos los valores ≤ 24h\n",
            "✅ work_hours_per_day: todos los valores ≤ 24h\n",
            "✅ sleep_hours: todos los valores ≤ 24h\n"
          ]
        }
      ]
    },
    {
      "cell_type": "markdown",
      "source": [
        "## Rangos Contextuales"
      ],
      "metadata": {
        "id": "7YOp-edDtslM"
      }
    },
    {
      "cell_type": "code",
      "source": [
        "print(\"\\nValidando rangos contextuales (edad 16-80) con tolerancia del 2% a outliers...\")\n",
        "\n",
        "total_filas = dfProductivity.count()\n",
        "\n",
        "fuera_rango_count = dfProductivity.filter((col('age') < 16) | (col('age') > 80)).count()\n",
        "\n",
        "# Calculo del porcenaje de outliers\n",
        "porcentaje_fuera_rango = (fuera_rango_count / total_filas) * 100 if total_filas > 0 else 0\n",
        "\n",
        "# Porcentaje de outliers aceptado\n",
        "outlier_threshold_percent = 2.0\n",
        "\n",
        "if porcentaje_fuera_rango > outlier_threshold_percent:\n",
        "    errores.append(f\" FALLO - age: {fuera_rango_count} valores ({porcentaje_fuera_rango:.2f}%) fuera del rango 16-80 (excede el {outlier_threshold_percent}%)\")\n",
        "    print(f\"   ❌ FALLO - age: {fuera_rango_count} valores ({porcentaje_fuera_rango:.2f}%) fuera del rango 16-80 (excede el {outlier_threshold_percent}%)\")\n",
        "else:\n",
        "    print(f\"   ✅ age: {fuera_rango_count} valores ({porcentaje_fuera_rango:.2f}%) fuera del rango 16-80 (dentro del umbral del {outlier_threshold_percent}%)\")"
      ],
      "metadata": {
        "colab": {
          "base_uri": "https://localhost:8080/"
        },
        "id": "cE41eST6tu8P",
        "outputId": "1385ff0c-b016-43b2-e4cb-44a0a9d25299"
      },
      "execution_count": null,
      "outputs": [
        {
          "output_type": "stream",
          "name": "stdout",
          "text": [
            "\n",
            "Validando rangos contextuales (edad 16-80) con tolerancia del 2% a outliers...\n",
            "   ✅ age: 0 valores (0.00%) fuera del rango 16-80 (dentro del umbral del 2.0%)\n"
          ]
        }
      ]
    },
    {
      "cell_type": "markdown",
      "source": [
        "## Comprobar la lógica work_hours_per_day + sleep_hours ≤ 24"
      ],
      "metadata": {
        "id": "MMJ0ftMLsGNF"
      }
    },
    {
      "cell_type": "code",
      "source": [
        "df = dfProductivity.withColumn(\n",
        "    \"total_hours\",\n",
        "    col(\"work_hours_per_day\") + col(\"sleep_hours\")\n",
        ")\n",
        "\n",
        "# Filtrar las filas donde total_hours > 24\n",
        "df_filtered = df.filter(col(\"total_hours\") > 24)\n",
        "\n",
        "df_filtered.count()"
      ],
      "metadata": {
        "colab": {
          "base_uri": "https://localhost:8080/"
        },
        "id": "srWyGjuFsJtB",
        "outputId": "6777f4d2-cfbf-44a7-a939-ad8fc771aa0f"
      },
      "execution_count": null,
      "outputs": [
        {
          "output_type": "execute_result",
          "data": {
            "text/plain": [
              "0"
            ]
          },
          "metadata": {},
          "execution_count": 34
        }
      ]
    },
    {
      "cell_type": "markdown",
      "source": [
        "## Validar horas de sueño fuera de rango"
      ],
      "metadata": {
        "id": "QqypIHAHt73W"
      }
    },
    {
      "cell_type": "code",
      "source": [
        "invalid_sleep = dfProductivity.filter((col(\"sleep_hours\") <= 0) | (col(\"sleep_hours\") > 16))\n",
        "print(\"Horas de sueño fuera de rango:\", invalid_sleep.count())"
      ],
      "metadata": {
        "colab": {
          "base_uri": "https://localhost:8080/"
        },
        "id": "ovPloNXGuen7",
        "outputId": "28fdc6fb-8e55-4505-9c09-e0271dd7bda8"
      },
      "execution_count": null,
      "outputs": [
        {
          "output_type": "stream",
          "name": "stdout",
          "text": [
            "Horas de sueño fuera de rango: 0\n"
          ]
        }
      ]
    },
    {
      "cell_type": "markdown",
      "source": [
        "## Validar coherencia temporal"
      ],
      "metadata": {
        "id": "5ZghzTt7ui7T"
      }
    },
    {
      "cell_type": "code",
      "source": [
        "temporal_issues = dfProductivity.filter(\n",
        "    (col(\"work_hours_per_day\") > 24) | (col(\"work_hours_per_day\") < 0) |\n",
        "    (col(\"screen_time_before_sleep\") > 24) | (col(\"screen_time_before_sleep\") < 0)\n",
        ")\n",
        "print(\"Coherencia temporal incorrecta:\", temporal_issues.count())"
      ],
      "metadata": {
        "colab": {
          "base_uri": "https://localhost:8080/"
        },
        "id": "_2ZQxr9CumH4",
        "outputId": "b6b5fe01-b5d6-4160-ec12-d1b44aed10e1"
      },
      "execution_count": null,
      "outputs": [
        {
          "output_type": "stream",
          "name": "stdout",
          "text": [
            "Coherencia temporal incorrecta: 0\n"
          ]
        }
      ]
    },
    {
      "cell_type": "markdown",
      "source": [
        "# Outliers"
      ],
      "metadata": {
        "id": "k9h8t0SBwIgW"
      }
    },
    {
      "cell_type": "code",
      "source": [
        "# Lista de columnas numéricas para analizar (ajusta según tus datos)\n",
        "numeric_columns_for_outliers = [\n",
        "    \"age\", \"daily_social_media_time\", \"work_hours_per_day\", \"perceived_productivity_score\",\n",
        "    \"actual_productivity_score\", \"stress_level\", \"sleep_hours\", \"screen_time_before_sleep\",\n",
        "    \"breaks_during_work\", \"coffee_consumption_per_day\", \"days_feeling_burnout_per_month\",\n",
        "    \"weekly_offline_hours\", \"job_satisfaction_score\"\n",
        "]\n",
        "\n",
        "print(\"### Identificación de Outliers (usando IQR) ###\")\n",
        "\n",
        "for col_name in numeric_columns_for_outliers:\n",
        "    # Calcula los cuartiles y el IQR\n",
        "    quantiles = dfProductivity.approxQuantile(col_name, [0.25, 0.75], 0.05)\n",
        "    q1 = quantiles[0]\n",
        "    q3 = quantiles[1]\n",
        "    iqr = q3 - q1\n",
        "\n",
        "    # Define los límites para los outliers\n",
        "    lower_bound = q1 - 1.5 * iqr\n",
        "    upper_bound = q3 + 1.5 * iqr\n",
        "\n",
        "    # Cuenta los outliers\n",
        "    outliers_count = dfProductivity.filter(\n",
        "        (col(col_name) < lower_bound) | (col(col_name) > upper_bound)\n",
        "    ).count()\n",
        "\n",
        "    print(f\"\\nColumna '{col_name}':\")\n",
        "    print(f\"  Q1: {q1:.2f}\")\n",
        "    print(f\"  Q3: {q3:.2f}\")\n",
        "    print(f\"  IQR: {iqr:.2f}\")\n",
        "    print(f\"  Límite Inferior: {lower_bound:.2f}\")\n",
        "    print(f\"  Límite Superior: {upper_bound:.2f}\")\n",
        "    print(f\"  Número de outliers: {outliers_count}\")\n",
        "\n",
        "    # Opcional: Mostrar algunas filas con outliers (muestra las primeras 5 si hay)\n",
        "    if outliers_count > 0:\n",
        "        print(\"  Ejemplos de outliers:\")\n",
        "        dfProductivity.filter(\n",
        "            (col(col_name) < lower_bound) | (col(col_name) > upper_bound)\n",
        "        ).limit(5).show()"
      ],
      "metadata": {
        "id": "u4RmZ8byv0gm",
        "outputId": "bdbdbc0f-b6a8-41b2-86c9-4741b9f21753",
        "colab": {
          "base_uri": "https://localhost:8080/"
        }
      },
      "execution_count": null,
      "outputs": [
        {
          "output_type": "stream",
          "name": "stdout",
          "text": [
            "### Identificación de Outliers (usando IQR) ###\n",
            "\n",
            "Columna 'age':\n",
            "  Q1: 30.00\n",
            "  Q3: 52.00\n",
            "  IQR: 22.00\n",
            "  Límite Inferior: -3.00\n",
            "  Límite Superior: 85.00\n",
            "  Número de outliers: 0\n",
            "\n",
            "Columna 'daily_social_media_time':\n",
            "  Q1: 1.86\n",
            "  Q3: 3.99\n",
            "  IQR: 2.13\n",
            "  Límite Inferior: -1.33\n",
            "  Límite Superior: 7.19\n",
            "  Número de outliers: 624\n",
            "  Ejemplos de outliers:\n",
            "+---+------+----------+-----------------------+--------------------------+-----------------------+------------------+----------------------------+-------------------------+------------+-----------+------------------------+------------------+---------------+-----------------------------+--------------------------+------------------------------+--------------------+----------------------+\n",
            "|age|gender|  job_type|daily_social_media_time|social_platform_preference|number_of_notifications|work_hours_per_day|perceived_productivity_score|actual_productivity_score|stress_level|sleep_hours|screen_time_before_sleep|breaks_during_work|uses_focus_apps|has_digital_wellbeing_enabled|coffee_consumption_per_day|days_feeling_burnout_per_month|weekly_offline_hours|job_satisfaction_score|\n",
            "+---+------+----------+-----------------------+--------------------------+-----------------------+------------------+----------------------------+-------------------------+------------+-----------+------------------------+------------------+---------------+-----------------------------+--------------------------+------------------------------+--------------------+----------------------+\n",
            "| 28| Other|        IT|                   7.60|                   Twitter|                     64|              5.89|                        5.51|                     4.95|        3.00|       6.76|                    1.45|                10|              0|                            0|                         1|                            18|                6.96|                  6.81|\n",
            "| 35|Female|Unemployed|                   8.69|                  Telegram|                     67|              9.51|                        6.64|                     5.54|        3.00|       6.24|                    0.50|                 8|              0|                            0|                         1|                            13|                0.00|                  5.74|\n",
            "| 22|  Male|Unemployed|                  12.52|                   Twitter|                     54|              6.68|                        3.69|                     3.81|        3.00|       7.93|                    0.92|                 4|              0|                            1|                         2|                            16|                9.94|                  5.98|\n",
            "| 62|Female|   Finance|                   7.64|                   Twitter|                     57|              6.93|                        3.24|                     3.36|        1.00|       6.89|                    0.57|                 0|              0|                            0|                         2|                             3|                0.83|                  2.28|\n",
            "| 38|Female|   Student|                  12.30|                    TikTok|                     62|              8.16|                        8.83|                     8.27|        2.00|       8.70|                    1.95|                 6|              0|                            0|                         3|                            11|               12.75|                  8.38|\n",
            "+---+------+----------+-----------------------+--------------------------+-----------------------+------------------+----------------------------+-------------------------+------------+-----------+------------------------+------------------+---------------+-----------------------------+--------------------------+------------------------------+--------------------+----------------------+\n",
            "\n",
            "\n",
            "Columna 'work_hours_per_day':\n",
            "  Q1: 5.70\n",
            "  Q3: 8.12\n",
            "  IQR: 2.42\n",
            "  Límite Inferior: 2.07\n",
            "  Límite Superior: 11.75\n",
            "  Número de outliers: 452\n",
            "  Ejemplos de outliers:\n",
            "+---+------+---------+-----------------------+--------------------------+-----------------------+------------------+----------------------------+-------------------------+------------+-----------+------------------------+------------------+---------------+-----------------------------+--------------------------+------------------------------+--------------------+----------------------+\n",
            "|age|gender| job_type|daily_social_media_time|social_platform_preference|number_of_notifications|work_hours_per_day|perceived_productivity_score|actual_productivity_score|stress_level|sleep_hours|screen_time_before_sleep|breaks_during_work|uses_focus_apps|has_digital_wellbeing_enabled|coffee_consumption_per_day|days_feeling_burnout_per_month|weekly_offline_hours|job_satisfaction_score|\n",
            "+---+------+---------+-----------------------+--------------------------+-----------------------+------------------+----------------------------+-------------------------+------------+-----------+------------------------+------------------+---------------+-----------------------------+--------------------------+------------------------------+--------------------+----------------------+\n",
            "| 26|Female|       IT|                   2.03|                  Telegram|                     53|              1.51|                        3.43|                     2.89|       10.00|       5.87|                    0.71|                 0|              0|                            1|                         4|                            30|                7.50|                  2.35|\n",
            "| 43|Female|       IT|                   2.74|                  Telegram|                     50|             11.92|                        2.17|                     1.30|        6.00|       5.78|                    1.38|                 7|              1|                            0|                         1|                            21|               12.86|                  0.89|\n",
            "| 50|  Male|Education|                   4.76|                  Telegram|                     73|              1.77|                        4.73|                     4.95|        4.00|       4.85|                    1.82|                 4|              0|                            1|                         0|                            22|                9.81|                  2.22|\n",
            "| 49|Female|  Finance|                   0.87|                   Twitter|                     57|             11.87|                        6.67|                     6.03|        2.00|       5.76|                    0.76|                 2|              0|                            1|                         4|                             6|                0.19|                  4.96|\n",
            "| 59|  Male|   Health|                   4.10|                 Instagram|                     56|              1.30|                        7.68|                     7.02|        7.00|       7.41|                    0.00|                 9|              0|                            0|                         0|                             1|                0.00|                  7.22|\n",
            "+---+------+---------+-----------------------+--------------------------+-----------------------+------------------+----------------------------+-------------------------+------------+-----------+------------------------+------------------+---------------+-----------------------------+--------------------------+------------------------------+--------------------+----------------------+\n",
            "\n",
            "\n",
            "Columna 'perceived_productivity_score':\n",
            "  Q1: 3.92\n",
            "  Q3: 6.91\n",
            "  IQR: 2.99\n",
            "  Límite Inferior: -0.57\n",
            "  Límite Superior: 11.39\n",
            "  Número de outliers: 0\n",
            "\n",
            "Columna 'actual_productivity_score':\n",
            "  Q1: 3.58\n",
            "  Q3: 6.15\n",
            "  IQR: 2.57\n",
            "  Límite Inferior: -0.28\n",
            "  Límite Superior: 10.01\n",
            "  Número de outliers: 0\n",
            "\n",
            "Columna 'stress_level':\n",
            "  Q1: 3.00\n",
            "  Q3: 7.00\n",
            "  IQR: 4.00\n",
            "  Límite Inferior: -3.00\n",
            "  Límite Superior: 13.00\n",
            "  Número de outliers: 0\n",
            "\n",
            "Columna 'sleep_hours':\n",
            "  Q1: 5.65\n",
            "  Q3: 7.23\n",
            "  IQR: 1.58\n",
            "  Límite Inferior: 3.28\n",
            "  Límite Superior: 9.60\n",
            "  Número de outliers: 904\n",
            "  Ejemplos de outliers:\n",
            "+---+------+--------+-----------------------+--------------------------+-----------------------+------------------+----------------------------+-------------------------+------------+-----------+------------------------+------------------+---------------+-----------------------------+--------------------------+------------------------------+--------------------+----------------------+\n",
            "|age|gender|job_type|daily_social_media_time|social_platform_preference|number_of_notifications|work_hours_per_day|perceived_productivity_score|actual_productivity_score|stress_level|sleep_hours|screen_time_before_sleep|breaks_during_work|uses_focus_apps|has_digital_wellbeing_enabled|coffee_consumption_per_day|days_feeling_burnout_per_month|weekly_offline_hours|job_satisfaction_score|\n",
            "+---+------+--------+-----------------------+--------------------------+-----------------------+------------------+----------------------------+-------------------------+------------+-----------+------------------------+------------------+---------------+-----------------------------+--------------------------+------------------------------+--------------------+----------------------+\n",
            "| 42|  Male|  Health|                   2.08|                  Telegram|                     57|              8.25|                        5.14|                     4.77|        3.00|       3.00|                    1.56|                 0|              1|                            1|                         2|                             0|               16.44|                  6.18|\n",
            "| 31|Female|  Health|                   0.01|                    TikTok|                     55|              8.79|                        4.94|                     4.28|        7.00|       9.83|                    0.61|                 1|              1|                            0|                         0|                             2|               10.88|                  4.96|\n",
            "| 59|Female| Finance|                   5.17|                   Twitter|                     69|              7.07|                        8.56|                     7.78|        6.00|       9.67|                    0.56|                 6|              0|                            0|                         1|                            13|               30.66|                  7.38|\n",
            "| 48|  Male|      IT|                   3.00|                    TikTok|                     69|              6.73|                        3.31|                     2.46|       10.00|       3.00|                    1.67|                10|              0|                            1|                         1|                            18|               10.64|                  2.32|\n",
            "| 44|Female| Student|                   0.00|                    TikTok|                     71|              9.80|                        6.79|                     6.49|        5.51|       3.20|                    0.54|                 8|              1|                            0|                         3|                            24|               22.69|                  6.04|\n",
            "+---+------+--------+-----------------------+--------------------------+-----------------------+------------------+----------------------------+-------------------------+------------+-----------+------------------------+------------------+---------------+-----------------------------+--------------------------+------------------------------+--------------------+----------------------+\n",
            "\n",
            "\n",
            "Columna 'screen_time_before_sleep':\n",
            "  Q1: 0.59\n",
            "  Q3: 1.36\n",
            "  IQR: 0.77\n",
            "  Límite Inferior: -0.57\n",
            "  Límite Superior: 2.52\n",
            "  Número de outliers: 446\n",
            "  Ejemplos de outliers:\n",
            "+---+------+----------+-----------------------+--------------------------+-----------------------+------------------+----------------------------+-------------------------+------------+-----------+------------------------+------------------+---------------+-----------------------------+--------------------------+------------------------------+--------------------+----------------------+\n",
            "|age|gender|  job_type|daily_social_media_time|social_platform_preference|number_of_notifications|work_hours_per_day|perceived_productivity_score|actual_productivity_score|stress_level|sleep_hours|screen_time_before_sleep|breaks_during_work|uses_focus_apps|has_digital_wellbeing_enabled|coffee_consumption_per_day|days_feeling_burnout_per_month|weekly_offline_hours|job_satisfaction_score|\n",
            "+---+------+----------+-----------------------+--------------------------+-----------------------+------------------+----------------------------+-------------------------+------------+-----------+------------------------+------------------+---------------+-----------------------------+--------------------------+------------------------------+--------------------+----------------------+\n",
            "| 42|Female|   Finance|                   5.04|                   Twitter|                     58|              6.29|                        7.55|                     6.83|        3.00|       7.41|                    2.97|                 3|              0|                            0|                         1|                             2|               21.70|                  6.13|\n",
            "| 61|  Male|        IT|                   1.46|                  Facebook|                     56|              9.15|                        6.37|                     5.89|        9.00|       5.10|                    3.00|                 6|              1|                            0|                         1|                            14|               12.69|                  6.20|\n",
            "| 65|  Male|   Finance|                   2.43|                  Telegram|                     76|              5.67|                        3.55|                     4.27|        9.00|       7.93|                    2.59|                 0|              1|                            0|                         3|                            29|               21.73|                  4.13|\n",
            "| 46|  Male|Unemployed|                   4.98|                   Twitter|                     62|              9.26|                        5.26|                     4.26|        8.00|       5.94|                    2.95|                 7|              0|                            0|                         2|                             5|                4.98|                  4.07|\n",
            "| 35|  Male|    Health|                   3.44|                  Facebook|                     59|              8.57|                        6.20|                     5.34|        5.00|       6.40|                    2.75|                 9|              0|                            0|                         1|                            13|               25.88|                  4.15|\n",
            "+---+------+----------+-----------------------+--------------------------+-----------------------+------------------+----------------------------+-------------------------+------------+-----------+------------------------+------------------+---------------+-----------------------------+--------------------------+------------------------------+--------------------+----------------------+\n",
            "\n",
            "\n",
            "Columna 'breaks_during_work':\n",
            "  Q1: 2.00\n",
            "  Q3: 7.00\n",
            "  IQR: 5.00\n",
            "  Límite Inferior: -5.50\n",
            "  Límite Superior: 14.50\n",
            "  Número de outliers: 0\n",
            "\n",
            "Columna 'coffee_consumption_per_day':\n",
            "  Q1: 1.00\n",
            "  Q3: 3.00\n",
            "  IQR: 2.00\n",
            "  Límite Inferior: -2.00\n",
            "  Límite Superior: 6.00\n",
            "  Número de outliers: 127\n",
            "  Ejemplos de outliers:\n",
            "+---+------+----------+-----------------------+--------------------------+-----------------------+------------------+----------------------------+-------------------------+------------+-----------+------------------------+------------------+---------------+-----------------------------+--------------------------+------------------------------+--------------------+----------------------+\n",
            "|age|gender|  job_type|daily_social_media_time|social_platform_preference|number_of_notifications|work_hours_per_day|perceived_productivity_score|actual_productivity_score|stress_level|sleep_hours|screen_time_before_sleep|breaks_during_work|uses_focus_apps|has_digital_wellbeing_enabled|coffee_consumption_per_day|days_feeling_burnout_per_month|weekly_offline_hours|job_satisfaction_score|\n",
            "+---+------+----------+-----------------------+--------------------------+-----------------------+------------------+----------------------------+-------------------------+------------+-----------+------------------------+------------------+---------------+-----------------------------+--------------------------+------------------------------+--------------------+----------------------+\n",
            "| 18|  Male|Unemployed|                   3.46|                 Instagram|                     62|              6.65|                        8.49|                     7.79|        8.00|       5.14|                    1.45|                 3|              0|                            0|                         7|                            16|                1.89|                  4.96|\n",
            "| 40|Female|   Student|                   2.61|                   Twitter|                     58|              3.89|                        8.90|                     7.93|        2.00|       5.56|                    1.65|                 6|              0|                            0|                         7|                            15|                9.07|                  8.02|\n",
            "| 19|  Male|        IT|                   0.00|                   Twitter|                     64|             11.52|                        5.77|                     5.75|        3.00|       6.50|                    1.16|                 1|              0|                            1|                         7|                            11|               11.73|                  5.95|\n",
            "| 61|Female|   Finance|                   3.26|                 Instagram|                     49|              6.30|                        6.18|                     4.95|        3.00|       6.16|                    1.67|                 8|              1|                            0|                         7|                            12|                5.48|                  4.60|\n",
            "| 29|Female|        IT|                   1.60|                  Facebook|                     59|              3.40|                        6.36|                     6.15|        5.51|       6.24|                    1.34|                 4|              0|                            1|                         7|                             4|                0.00|                  6.19|\n",
            "+---+------+----------+-----------------------+--------------------------+-----------------------+------------------+----------------------------+-------------------------+------------+-----------+------------------------+------------------+---------------+-----------------------------+--------------------------+------------------------------+--------------------+----------------------+\n",
            "\n",
            "\n",
            "Columna 'days_feeling_burnout_per_month':\n",
            "  Q1: 8.00\n",
            "  Q3: 22.00\n",
            "  IQR: 14.00\n",
            "  Límite Inferior: -13.00\n",
            "  Límite Superior: 43.00\n",
            "  Número de outliers: 0\n",
            "\n",
            "Columna 'weekly_offline_hours':\n",
            "  Q1: 4.85\n",
            "  Q3: 14.45\n",
            "  IQR: 9.60\n",
            "  Límite Inferior: -9.55\n",
            "  Límite Superior: 28.85\n",
            "  Número de outliers: 269\n",
            "  Ejemplos de outliers:\n",
            "+---+------+----------+-----------------------+--------------------------+-----------------------+------------------+----------------------------+-------------------------+------------+-----------+------------------------+------------------+---------------+-----------------------------+--------------------------+------------------------------+--------------------+----------------------+\n",
            "|age|gender|  job_type|daily_social_media_time|social_platform_preference|number_of_notifications|work_hours_per_day|perceived_productivity_score|actual_productivity_score|stress_level|sleep_hours|screen_time_before_sleep|breaks_during_work|uses_focus_apps|has_digital_wellbeing_enabled|coffee_consumption_per_day|days_feeling_burnout_per_month|weekly_offline_hours|job_satisfaction_score|\n",
            "+---+------+----------+-----------------------+--------------------------+-----------------------+------------------+----------------------------+-------------------------+------------+-----------+------------------------+------------------+---------------+-----------------------------+--------------------------+------------------------------+--------------------+----------------------+\n",
            "| 64|  Male|   Student|                   7.12|                 Instagram|                     59|              6.74|                        8.54|                     6.96|        5.51|       6.50|                    1.00|                 4|              1|                            0|                         3|                             8|               31.22|                  8.69|\n",
            "| 43|  Male|   Student|                   3.00|                    TikTok|                     67|              9.93|                        2.06|                     1.64|        7.00|       6.50|                    2.09|                 1|              0|                            1|                         1|                            27|               30.75|                  0.00|\n",
            "| 59|Female|   Finance|                   5.17|                   Twitter|                     69|              7.07|                        8.56|                     7.78|        6.00|       9.67|                    0.56|                 6|              0|                            0|                         1|                            13|               30.66|                  7.38|\n",
            "| 52|  Male|   Student|                   4.88|                  Telegram|                     62|             10.02|                        3.71|                     4.95|        2.00|       7.38|                    1.17|                 8|              0|                            0|                         5|                            26|               30.38|                  4.96|\n",
            "| 31|  Male|Unemployed|                   3.20|                 Instagram|                     62|              6.82|                        5.86|                     4.97|        6.00|       4.66|                    1.16|                 7|              1|                            0|                         3|                             8|               32.90|                  6.41|\n",
            "+---+------+----------+-----------------------+--------------------------+-----------------------+------------------+----------------------------+-------------------------+------------+-----------+------------------------+------------------+---------------+-----------------------------+--------------------------+------------------------------+--------------------+----------------------+\n",
            "\n",
            "\n",
            "Columna 'job_satisfaction_score':\n",
            "  Q1: 3.60\n",
            "  Q3: 6.15\n",
            "  IQR: 2.55\n",
            "  Límite Inferior: -0.23\n",
            "  Límite Superior: 9.98\n",
            "  Número de outliers: 102\n",
            "  Ejemplos de outliers:\n",
            "+---+------+----------+-----------------------+--------------------------+-----------------------+------------------+----------------------------+-------------------------+------------+-----------+------------------------+------------------+---------------+-----------------------------+--------------------------+------------------------------+--------------------+----------------------+\n",
            "|age|gender|  job_type|daily_social_media_time|social_platform_preference|number_of_notifications|work_hours_per_day|perceived_productivity_score|actual_productivity_score|stress_level|sleep_hours|screen_time_before_sleep|breaks_during_work|uses_focus_apps|has_digital_wellbeing_enabled|coffee_consumption_per_day|days_feeling_burnout_per_month|weekly_offline_hours|job_satisfaction_score|\n",
            "+---+------+----------+-----------------------+--------------------------+-----------------------+------------------+----------------------------+-------------------------+------------+-----------+------------------------+------------------+---------------+-----------------------------+--------------------------+------------------------------+--------------------+----------------------+\n",
            "| 20|Female|    Health|                   2.18|                  Facebook|                     69|              7.47|                        8.34|                     7.68|        5.00|       5.48|                    0.89|                 6|              1|                            1|                         3|                             3|                9.28|                 10.00|\n",
            "| 37|Female|   Student|                   0.26|                 Instagram|                     69|              7.50|                        8.25|                     9.03|        4.00|       4.44|                    0.39|                 4|              0|                            0|                         1|                            31|                3.74|                 10.00|\n",
            "| 21|Female|Unemployed|                   3.29|                 Instagram|                     67|             10.48|                        8.95|                     9.05|        3.00|       4.39|                    2.11|                 5|              0|                            0|                         1|                             7|                0.82|                 10.00|\n",
            "| 61|Female|   Student|                   3.00|                 Instagram|                     64|              7.67|                        8.83|                     4.95|        2.00|       4.48|                    0.27|                 1|              0|                            0|                         3|                            16|               19.57|                 10.00|\n",
            "| 50|Female|        IT|                   2.26|                    TikTok|                     55|              9.04|                        8.64|                     8.38|        5.00|       7.87|                    2.53|                 8|              0|                            0|                         4|                            21|               12.88|                 10.00|\n",
            "+---+------+----------+-----------------------+--------------------------+-----------------------+------------------+----------------------------+-------------------------+------------+-----------+------------------------+------------------+---------------+-----------------------------+--------------------------+------------------------------+--------------------+----------------------+\n",
            "\n"
          ]
        }
      ]
    },
    {
      "cell_type": "code",
      "source": [
        "# Guardar csv limpio, coalesce para que guarde el csv en una sola parte\n",
        "dfProductivity.coalesce(1).write \\\n",
        "    .option(\"header\", \"true\") \\\n",
        "    .mode(\"overwrite\") \\\n",
        "    .csv(\"/content/dfProductivity_cleaned\")\n",
        "\n",
        "dataset_KNN.to_csv('/content/dfProductivity_KNN_cleaned.csv', index=False)"
      ],
      "metadata": {
        "id": "TnEq1aPG8Es2"
      },
      "execution_count": null,
      "outputs": []
    },
    {
      "cell_type": "code",
      "source": [
        "dfProductivity.show()"
      ],
      "metadata": {
        "colab": {
          "base_uri": "https://localhost:8080/"
        },
        "id": "NVV2ZvokCJUv",
        "outputId": "96e0b9a8-3759-4569-ab77-6ee8250656a3"
      },
      "execution_count": null,
      "outputs": [
        {
          "output_type": "stream",
          "name": "stdout",
          "text": [
            "+---+------+----------+-----------------------+--------------------------+-----------------------+------------------+----------------------------+-------------------------+------------+-----------+------------------------+------------------+---------------+-----------------------------+--------------------------+------------------------------+--------------------+----------------------+\n",
            "|age|gender|  job_type|daily_social_media_time|social_platform_preference|number_of_notifications|work_hours_per_day|perceived_productivity_score|actual_productivity_score|stress_level|sleep_hours|screen_time_before_sleep|breaks_during_work|uses_focus_apps|has_digital_wellbeing_enabled|coffee_consumption_per_day|days_feeling_burnout_per_month|weekly_offline_hours|job_satisfaction_score|\n",
            "+---+------+----------+-----------------------+--------------------------+-----------------------+------------------+----------------------------+-------------------------+------------+-----------+------------------------+------------------+---------------+-----------------------------+--------------------------+------------------------------+--------------------+----------------------+\n",
            "| 56|  Male|Unemployed|                   4.18|                  Facebook|                     61|              6.75|                        8.04|                     7.29|        4.00|       5.12|                    0.42|                 8|              0|                            0|                         4|                            11|               21.93|                  6.34|\n",
            "| 46|  Male|    Health|                   3.25|                   Twitter|                     59|              9.17|                        5.06|                     5.17|        7.00|       5.10|                    0.67|                 7|              1|                            1|                         2|                            25|                0.00|                  3.41|\n",
            "| 32|  Male|   Finance|                   3.00|                   Twitter|                     57|              7.91|                        3.86|                     3.47|        4.00|       8.58|                    0.62|                 0|              1|                            0|                         3|                            17|               10.32|                  2.47|\n",
            "| 60|Female|Unemployed|                   3.00|                  Facebook|                     59|              6.36|                        2.92|                     1.77|        6.00|       6.05|                    1.20|                 1|              0|                            0|                         0|                             4|               23.88|                  1.73|\n",
            "| 25|  Male|        IT|                   3.00|                  Telegram|                     66|              6.21|                        8.87|                     4.95|        7.00|       5.41|                    1.88|                 1|              0|                            1|                         1|                            30|               10.65|                  9.69|\n",
            "| 38|  Male|   Finance|                   1.51|                   Twitter|                     50|              6.43|                        5.51|                     4.08|        5.00|       5.52|                    1.52|                 5|              0|                            1|                         5|                             2|                0.00|                  4.57|\n",
            "| 56|Female|Unemployed|                   4.38|                    TikTok|                     60|              3.90|                        6.42|                     5.98|        7.00|       7.55|                    2.25|                 4|              0|                            0|                         4|                            20|               24.08|                  5.50|\n",
            "| 36|Female| Education|                   4.09|                   Twitter|                     49|              6.56|                        2.68|                     2.45|        4.00|       6.33|                    0.75|                 2|              0|                            0|                         4|                            29|                8.42|                  3.44|\n",
            "| 40|Female| Education|                   4.10|                 Instagram|                     57|              5.84|                        3.22|                     3.00|        4.00|       6.50|                    0.00|                10|              0|                            1|                         2|                            10|                0.00|                  1.96|\n",
            "| 28| Other|        IT|                   7.60|                   Twitter|                     64|              5.89|                        5.51|                     4.95|        3.00|       6.76|                    1.45|                10|              0|                            0|                         1|                            18|                6.96|                  6.81|\n",
            "| 28|  Male|        IT|                   3.34|                   Twitter|                     57|             11.02|                        8.94|                     7.98|        4.00|       3.95|                    1.03|                 5|              1|                            1|                         1|                             3|               13.51|                  9.41|\n",
            "| 41|Female|   Finance|                   2.20|                   Twitter|                     59|             10.15|                        7.70|                     4.95|        9.00|       6.09|                    0.89|                 8|              1|                            0|                         4|                            30|                8.73|                  6.03|\n",
            "| 53|  Male|   Student|                   2.72|                    TikTok|                     77|              5.64|                        8.58|                     7.72|        5.51|       4.56|                    0.60|                 5|              0|                            0|                         0|                            15|                4.96|                  8.77|\n",
            "| 57|  Male| Education|                   0.00|                   Twitter|                     60|              6.82|                        8.85|                     7.93|        5.00|       6.76|                    1.34|                 3|              0|                            0|                         4|                            27|               18.05|                  7.56|\n",
            "| 41|  Male| Education|                   3.77|                    TikTok|                     65|              8.64|                        7.51|                     6.77|       10.00|       7.92|                    1.26|                 6|              1|                            0|                         4|                            20|               12.77|                  6.85|\n",
            "| 20|  Male|   Student|                   5.83|                    TikTok|                     67|              4.72|                        2.65|                     2.86|        5.00|       8.30|                    1.09|                 9|              0|                            0|                         4|                             0|                8.10|                  2.18|\n",
            "| 39|  Male|   Finance|                   2.31|                   Twitter|                     64|              7.05|                        6.98|                     6.63|        9.00|       4.85|                    0.07|                 2|              0|                            0|                         3|                             9|               12.11|                  4.96|\n",
            "| 19|  Male|    Health|                   5.62|                   Twitter|                     52|              8.20|                        2.15|                     2.06|        1.00|       5.22|                    1.96|                 3|              0|                            0|                         2|                             6|               20.03|                  1.73|\n",
            "| 41|Female|    Health|                   3.00|                   Twitter|                     47|              8.62|                        8.52|                     7.43|        5.00|       6.28|                    0.00|                 2|              0|                            0|                         2|                            26|                0.23|                  5.59|\n",
            "| 61|Female| Education|                   1.45|                   Twitter|                     62|              6.42|                        6.87|                     5.96|        6.00|       6.98|                    0.00|                 4|              1|                            1|                         3|                            17|               14.09|                  5.44|\n",
            "+---+------+----------+-----------------------+--------------------------+-----------------------+------------------+----------------------------+-------------------------+------------+-----------+------------------------+------------------+---------------+-----------------------------+--------------------------+------------------------------+--------------------+----------------------+\n",
            "only showing top 20 rows\n",
            "\n"
          ]
        }
      ]
    },
    {
      "cell_type": "code",
      "source": [
        "spark.stop()"
      ],
      "metadata": {
        "id": "CEn6BaJR9l6W"
      },
      "execution_count": null,
      "outputs": []
    }
  ]
}